{
 "cells": [
  {
   "cell_type": "markdown",
   "metadata": {
    "id": "VHnfP_tV1jOE"
   },
   "source": [
    "# Perfil Socio-Educaional do inscritos no Exame Nacional para Certificação de Competências de Jovens e Adultos (Encceja) 2019 "
   ]
  },
  {
   "cell_type": "code",
   "execution_count": 1,
   "metadata": {
    "id": "09Sdr5veBHO1"
   },
   "outputs": [],
   "source": [
    "import altair as alt\n",
    "import pandas as pd\n"
   ]
  },
  {
   "cell_type": "code",
   "execution_count": null,
   "metadata": {
    "colab": {
     "base_uri": "https://localhost:8080/"
    },
    "id": "PWJnVDgKMSwI",
    "outputId": "45f525e8-a0e4-432d-d706-61e92de251b8"
   },
   "outputs": [],
   "source": [
    "dados = pd.read_csv(\"https://raw.githubusercontent.com/BeneditoSRNeto/ENCEJA/main/MICRODADOS_ENCCEJA_REGULAR_2019_PA_NOVO.csv\",sep=';')\n",
    "alt.data_transformers.enable('default', max_rows=None)\n"
   ]
  },
  {
   "cell_type": "code",
   "execution_count": null,
   "metadata": {
    "colab": {
     "base_uri": "https://localhost:8080/",
     "height": 580
    },
    "id": "PvTQCcivgKwk",
    "outputId": "4c25ff28-012d-4f28-8b4a-cf12b1bf541b",
    "scrolled": true
   },
   "outputs": [],
   "source": [
    "dados.head()"
   ]
  },
  {
   "cell_type": "markdown",
   "metadata": {
    "id": "Z_UDBc4o6Y2_"
   },
   "source": [
    "# Em que série os cadidatos do ENCCEJA 2019 abandonaram os estudos?"
   ]
  },
  {
   "cell_type": "code",
   "execution_count": null,
   "metadata": {
    "colab": {
     "base_uri": "https://localhost:8080/",
     "height": 498
    },
    "id": "abWBrOi8l4t_",
    "outputId": "102ecc64-8742-48bb-9c8b-f1af740d5248"
   },
   "outputs": [],
   "source": [
    "\n",
    "dados['Idade_parou_estudos'] = dados['Q21'].map({'A': 'Nunca frequentei a escola', 'B': 'Estou frequentando a escola','C': 'AbandonouMenos de 10 anos','D': 'Entre 10 e 14 anos','E': 'Entre 15 e 18 anos','F': 'Entre 19 e 24 anos','G': 'Entre 25 e 30 anos','H': 'Mais de 30 anos'})\n",
    "dados['Serie_parou'] = dados['Q20'].map({'A': 'Não frequentei', 'B': '1ª série do ensino fundamental','C': '2ª série do ensino fundamental','D': '3ª série do ensino fundamental','E': '4ª série do ensino fundamental','F':'5ª série do ensino fundamental','G':'6ªsérie do ensino fundamental','H':'7ª série do ensino fundamental','I':'8ª série do ensino fundamental','J':'1ª série do ensino médio','K':'2ª série do ensino médio','L':'3ª série do ensino médio'})\n",
    "#dados['Serie_parou'] = dados['Q20'].map({'A': 'Não frequentei', 'B': '1ª série do ensino fundamental','C': '2ª série do ensino fundamental','D': '3ª série do ensino fundamental','E': '4ª série do ensino fundamental','F':'5ª série do ensino fundamental','G':'6ªsérie do ensino fundamental','H':'7ª série do ensino fundamental','I':'8ª série do ensino fundamental','J':'1ª série do ensino médio','K':'2ª série do ensino médio','L':'3ª série do ensino médio'})\n",
    "\n",
    "dados['Sexo'] = dados['Tp Sexo'].map({'F': 'Feminino','M': 'Masculino'})\n",
    "dados['aprovados'] = dados['In Aprovado Cn'].map({1: 'Aprovado',0: 'Reprovado'})\n",
    "dados['aprovados'] = dados['In Aprovado Lc'].map({1: 'Aprovado',0: 'Reprovado'})\n",
    "dados['aprovados'] = dados['In Aprovado Mt'].map({1: 'Aprovado',0: 'Reprovado'})\n",
    "dados['aprovados'] = dados['In Aprovado Lc'].map({1: 'Aprovado',0: 'Reprovado'})\n",
    "######################\n",
    "domain1 = ['Ensino Médio', 'Ensino Fundamental']\n",
    "range1 = ['orange', 'firebrick']\n",
    "\n",
    "domain2 = ['Jovem', 'Adulto','Idoso']\n",
    "range2 = ['#7FFFD4', '#90EE90','#778899']\n",
    "#######################################\n",
    "\n",
    "brush = alt.selection_interval(encodings=['x']);\n",
    "\n",
    "\n",
    "base = alt.Chart().mark_bar().transform_calculate(\n",
    "    Nivel=\"'J'== datum.Q20 ||'K'== datum.Q20 ||'L'== datum.Q20 ? 'Ensino Médio':'Ensino Fundamental'\"\n",
    ").encode(\n",
    "    alt.X(\"Idade:Q\",title=None, bin=True),\n",
    "    alt.Y(\"count():Q\", scale=alt.Scale(zero=False), title=\"Nívem de ensino pretendido\"),\n",
    "   # alt.Color('Nivel:N', scale=alt.Scale(domain=domain1, range=range1))\n",
    "    alt.Color(\"Nivel:N\",title=None)\n",
    ").properties(\n",
    "    width=200,\n",
    "    height=350\n",
    ")\n",
    "\n",
    "H_idade=alt.vconcat(\n",
    "    base.encode(alt.X('Idade:Q', title=None, scale=alt.Scale(domain=brush))),\n",
    "    base.add_selection(brush).properties(height=60),\n",
    "    data=dados\n",
    ")\n",
    "\n",
    "####\n",
    "brush2 = alt.selection_interval(encodings=['x']);\n",
    "\n",
    "\n",
    "base2 = alt.Chart().mark_bar().transform_calculate(\n",
    "    faixa=\"datum.Idade < 20 ? 'Jovem':datum.Idade > 20 && datum.Idade < 60 ? 'Adulto':'Idoso'\"\n",
    ").encode(\n",
    "    alt.X(\"Serie_parou:N\",title=None),\n",
    "    alt.Y(\"count():Q\", scale=alt.Scale(zero=False), title=\"Histograma Série que parou\"),\n",
    "     #alt.Color('faixa:N', scale=alt.Scale( range=range2))\n",
    "    alt.Color(\"faixa:N\",title=\"Faixas\")\n",
    ").properties(\n",
    "    width=200,\n",
    "    height=300\n",
    ")\n",
    "\n",
    "H_Parou=alt.vconcat(\n",
    "    base2.encode(alt.X('Serie_parou:N', title=None, scale=alt.Scale(domain=brush2))),\n",
    "    base2.add_selection(brush2).properties(height=60),\n",
    "    data=dados\n",
    ")\n",
    "\n",
    "###\n",
    "brush3 = alt.selection_interval(encodings=['x']);\n",
    "\n",
    "\n",
    "base3 = alt.Chart().mark_bar().transform_calculate(\n",
    "    faixa=\"datum.Idade < 20 ? 'Jovem':datum.Idade > 20 && datum.Idade < 60 ? 'Adulto':'Idoso'\"\n",
    ").encode(\n",
    "    alt.X(\"Idade_parou_estudos:N\",title=None),\n",
    "    alt.Y(\"count():Q\", scale=alt.Scale(zero=False), title=\"Histograma Idade que parou\"),\n",
    "    alt.Color(\"Sexo:N\",title=\"Sexo\")\n",
    ").properties(\n",
    "    width=200,\n",
    "    height=300\n",
    ")\n",
    "\n",
    "H_Idade_Parou=alt.vconcat(\n",
    "    base3.encode(alt.X('Idade_parou_estudos:N', title=None, scale=alt.Scale(domain=brush3))),\n",
    "    base3.add_selection(brush3).properties(height=60),\n",
    "    data=dados\n",
    ")\n",
    "\n",
    "\n",
    "\n",
    "###############################\n",
    "\n",
    "\n",
    "\n",
    "\n",
    "\n",
    "alt.vconcat(H_Parou |H_Idade_Parou| H_idade)\n"
   ]
  },
  {
   "cell_type": "markdown",
   "metadata": {
    "id": "3DMrLkYptJpr"
   },
   "source": [
    "# Qual a escolaridades dos Pais dos Candidatos?"
   ]
  },
  {
   "cell_type": "code",
   "execution_count": null,
   "metadata": {
    "colab": {
     "base_uri": "https://localhost:8080/",
     "height": 214
    },
    "id": "z-4Vqk-IhCr_",
    "outputId": "db713d40-dabc-47a9-a0d1-1595e0d8fc52"
   },
   "outputs": [],
   "source": [
    "dados['Escolaridade_pais'] = dados['Q04'].map({'A': 'FUNDAMENTAL MENOR', 'B': 'FUNDAMENTAL MAIOR','C': 'ENSINO MEDIO','D': 'ENSINO SUPERIOR','E': 'ESPECIALIZAÇÃO','F': 'NÃO ESTUDOU','G':'NÃO SOUBE INFORMAR'})\n",
    "dados['Escolaridade_mae'] = dados['Q05'].map({'A': 'FUNDAMENTAL MENOR', 'B': 'FUNDAMENTAL MAIOR','C': 'ENSINO MEDIO','D': 'ENSINO SUPERIOR','E': 'ESPECIALIZAÇÃO','F': 'NÃO ESTUDOU','G': 'NÃO SOUBE INFORMAR'})\n",
    "dados['Renda_percapita'] = dados['Q06'].map({'A': 'Nenhuma renda', 'B': 'Até 1 salário mínimo','C': 'De 1 a 3 salários mínimos','D': 'De 3 a 6 salários mínimos','E': 'De 6 a 9 salários mínimos','F': 'De 9 a 12 salários mínimos','G': 'De 12 a 15 salários mínimos'})\n",
    "dados['QTD_Pessoas_residencia'] = dados['Q01'].map({'A': 'Moro sozinho', 'B': 'Uma a três','C': 'Quatro a sete','D': 'Oito a dez','E': 'Mais de dez'})\n",
    "pai=alt.Chart(dados).mark_bar().transform_filter(\n",
    "    \"datum['Renda_percapita'] != null\"\n",
    ").encode(\n",
    "    alt.X(\"count(Escolaridade_pais)\",\n",
    "          axis=alt.Axis(orient=\"bottom\", offset=10), # mover um pouco a escala e colocar á direita\n",
    "          title=\"Contagem\"),\n",
    "    alt.Y(\"Escolaridade_pais\",title=\"Escolaridade Pai\")\n",
    "   #, alt.Size(\"count(Renda_percapita)\")\n",
    "   , alt.Color('Renda_percapita:N'),\n",
    "  # tooltip=[alt.Tooltip(\"QTD_Pessoas_residencia\")]\n",
    ").properties(\n",
    "    width=200,\n",
    "    height=200\n",
    ")\n",
    "\n",
    "\n",
    "mae=alt.Chart(dados).mark_bar().transform_filter(\n",
    "    \"datum['Renda_percapita'] != null\"\n",
    ").encode(\n",
    "    alt.X(\"count(Escolaridade_mae)\",stack=None,\n",
    "          axis=alt.Axis(orient=\"bottom\", offset=10), \n",
    "          title=\"Contagem\") ,\n",
    "    alt.Y(\"Escolaridade_mae\",title=\"Escolaridade da Mãe\")\n",
    "   #, alt.Size(\"count(Renda_percapita)\")\n",
    "   , alt.Color('Renda_percapita:N'),\n",
    "\n",
    "\n",
    ").properties(\n",
    "    width=200,\n",
    "    height=200\n",
    ")\n",
    "alt.vconcat((pai | mae))"
   ]
  },
  {
   "cell_type": "markdown",
   "metadata": {
    "id": "tQDjcuPExADP"
   },
   "source": [
    "# O candidato trabalha ou trabalhou?"
   ]
  },
  {
   "cell_type": "code",
   "execution_count": null,
   "metadata": {
    "colab": {
     "base_uri": "https://localhost:8080/",
     "height": 503
    },
    "id": "R2fl7Lq-mNv8",
    "outputId": "ae0ff2fc-d5bc-4a50-c48e-351b3ef5bea1"
   },
   "outputs": [],
   "source": [
    "\n",
    "\n",
    "dados['Setor_Trabalho'] = dados['Q09'].map({'A': 'Na agricultura, no campo, na fazenda ou na pesca', 'B': 'Na indústria','C': 'Na construção civil','D': 'No comércio, banco, transporte, hotelaria ou outros serviços','E': 'Como funcionário(a) do governo federal, estadual ou municipal','F':'Como profissional liberal, professor(a) ou técnico(a) de nível superior','G':'Trabalho fora de casa em atividades informais (pintor, eletricista, encanador, feirante, ambulante, guardador/a de carros, catador/a de lixo)','H':'Trabalho em minha casa informalmente (costura, aulas particulares, cozinha, artesanato, carpintaria etc.)','I':'Faço trabalho doméstico em casa de outras pessoas (cozinheiro/a, mordomo/governanta, jardineiro, babá, lavadeira, faxineiro/a, acompanhante de idosos/as etc.)','J':'No lar (sem remuneração)','K':'Outro','L':'Não trabalho'})\n",
    "dados['Horas_Trabalho'] = dados['Q15'].map({'A': 'Sem jornada fixa, até 10 horas semanais', 'B': 'De 11 a 20 horas semanais','C': 'De 21 a 30 horas semanais','D': 'De 31 a 40 horas semanais','E': 'Mais de 40 horas semanais'})\n",
    "dados['Idade_Trabalho'] = dados['Q16'].map({'A': 'Antes dos 14 anos', 'B': 'Entre 14 e 16 anos','C': 'Entre 17 e 18 anos','D': 'Após 18 anos'})\n",
    "\n",
    "\n",
    "dados['Renda'] = dados['Q07'].map({'A': 'Nenhuma renda', 'B': 'Até 1 salário mínimo','C': 'De 1 a 3 salários mínimos','D': 'De 3 a 6 salários mínimos','E': 'De 6 a 9 salários mínimos','F': 'De 9 a 12 salários mínimos','G': 'De 12 a 15 salários mínimos','H': 'Mais de 15 salários mínimos'})\n",
    "dados['QTD_Pessoas_residencia'] = dados['Q01'].map({'A': 'Moro sozinho', 'B': 'Uma a três','C': 'Quatro a sete','D': 'Oito a dez','E': 'Mais de dez'})\n",
    "setor=alt.Chart(dados).mark_bar().transform_filter(\n",
    "    \"datum['Renda'] != null\"\n",
    ").encode(\n",
    "    alt.X(\"count()\",\n",
    "           title=\"contagem\"),\n",
    "    alt.Y(\"Setor_Trabalho:N\",title=\"Setor de atuação\")\n",
    "      , alt.Color('Renda:N',title=\"Renda Mensal\"),\n",
    "       #tooltip=[alt.Tooltip(\"Tp Sexo:N\"),alt.Tooltip(\"QTD_Pessoas_residencia\")],opacity=alt.value(.8)\n",
    ").properties(\n",
    "    width=400,\n",
    "    height=200\n",
    ")\n",
    "\n",
    "horas=alt.Chart(dados).mark_bar().transform_filter(\n",
    "    \"datum['Horas_Trabalho'] != null\"\n",
    ").encode(\n",
    "    alt.X(\"count()\",\n",
    "           title=\"contagem\"),\n",
    "    alt.Y(\"Horas_Trabalho:N\",title=\"Jornada de Trabalho\")\n",
    "      , alt.Color('Renda:N',title=\"Renda Mensal\"),\n",
    "       #tooltip=[alt.Tooltip(\"Tp Sexo:N\"),alt.Tooltip(\"QTD_Pessoas_residencia\")],opacity=alt.value(.8)\n",
    ").properties(\n",
    "    width=200,\n",
    "    height=120\n",
    ")\n",
    "\n",
    "idade=alt.Chart(dados).mark_bar().transform_filter(\n",
    "    \"datum['Renda'] != null\"\n",
    ").encode(\n",
    "    alt.X(\"count()\",\n",
    "           title=\"contagem\"),\n",
    "    alt.Y(\"Idade_Trabalho:N\",title=\"Idade que começou a trabalhar\")\n",
    "      , alt.Color('Renda:N',title=\"Renda Mensal\"),\n",
    "       #tooltip=[alt.Tooltip(\"Tp Sexo:N\"),alt.Tooltip(\"QTD_Pessoas_residencia\")],opacity=alt.value(.8)\n",
    ").properties(\n",
    "    width=200,\n",
    "    height=120\n",
    ")\n",
    "\n",
    "alt.vconcat((setor), idade| horas)"
   ]
  },
  {
   "cell_type": "markdown",
   "metadata": {
    "id": "CVnOzzWr0FiA"
   },
   "source": [
    "# Qual é o local da moradia dos cadidatos?"
   ]
  },
  {
   "cell_type": "code",
   "execution_count": null,
   "metadata": {
    "colab": {
     "base_uri": "https://localhost:8080/",
     "height": 339
    },
    "id": "LM8H1t4canKu",
    "outputId": "7fc09b31-13b6-4d6b-fd5c-2e7a34c6b320",
    "scrolled": true
   },
   "outputs": [],
   "source": [
    "dados['Local_moradia'] = dados['Q03'].map({'A': 'Zona rural', 'B': 'Zona urbana','C': 'Comunidade indígena','D': 'Comunidade quilombola'})\n",
    "\n",
    "dados['moradia'] = dados['Q02'].map({'A': 'Própria', 'B': 'Alugada','C': 'Cedida'})\n",
    "\n",
    "\n",
    "dados['Renda_percapita'] = dados['Q06'].map({'A': 'Nenhuma renda', 'B': 'Até 1 salário mínimo','C': 'De 1 a 3 salários mínimos','D': 'De 3 a 6 salários mínimos','E': 'De 6 a 9 salários mínimos'})\n",
    "dados['QTD_Pessoas_residencia'] = dados['Q01'].map({'A': 'Moro sozinho', 'B': 'Uma a três','C': 'Quatro a sete','D': 'Oito a dez','E': 'Mais de dez'})\n",
    "\n",
    "nomeLocal = list(dados[\"Local_moradia\"].unique())\n",
    "\n",
    "selecionaLocal = alt.selection_single(\n",
    "    name='Selecao', # dando o nome 'Seleção'\n",
    "    fields=['Local_moradia'], # Seleção somente no campo cidade\n",
    "    init={'Local_moradia': nomeLocal[0]}, # a primeira cidade começa selecionada\n",
    "    bind=alt.binding_select(options=nomeLocal) # vincula um menu ao nome das cidades\n",
    ")\n",
    "\n",
    "\n",
    "Qtd=alt.Chart(dados).mark_bar().transform_filter(\n",
    "    \"datum['Renda_percapita'] != null  \"\n",
    ").encode(\n",
    "    alt.X(\"count():Q\",\n",
    "          axis=alt.Axis(orient=\"bottom\", offset=10), # mover um pouco a escala e colocar á direita\n",
    "          title=\"Contagem\"),\n",
    "         \n",
    "    alt.Y(\"QTD_Pessoas_residencia:N\",title=\"Residem na mesma casa\"),\n",
    "    color=alt.condition(selecionaLocal, \"Local_moradia\" ,alt.value(\"darkgrey\")),\n",
    "    opacity=alt.condition(selecionaLocal, alt.value(.8),alt.value(.1)),\n",
    "     tooltip=[alt.Tooltip(\"count():Q\")]\n",
    "   #, alt.Size(\"count(Renda_percapita)\")\n",
    "  # , alt.Color('Local_moradia:N'),\n",
    "   #row='Local_moradia:N',\n",
    "  # tooltip=[alt.Tooltip(\"Setor_Trabalho:N\"),alt.Tooltip(\"Renda_percapita:N\"),alt.Tooltip(\"QTD_Pessoas_residencia\")]\n",
    ").interactive()\n",
    "\n",
    "Loc2=alt.Chart(dados).mark_bar().add_selection(\n",
    "    selecionaLocal\n",
    ").encode(\n",
    "    alt.X(\"count()\",scale=alt.Scale(\n",
    "            domain=(1, 1000),\n",
    "            clamp=True\n",
    "        )),\n",
    "    alt.Y(\"Local_moradia:N\"),\n",
    "    color=alt.condition(selecionaLocal, \"Local_moradia\" ,alt.value(\"darkgrey\")),\n",
    "    opacity=alt.condition(selecionaLocal, alt.value(.8),alt.value(.1)),\n",
    "     tooltip=[alt.Tooltip(\"count(Local_moradia):Q\")]\n",
    ").interactive()\n",
    "\n",
    "\n",
    "####################################\n",
    "\n",
    "casa=alt.Chart(dados).mark_bar().transform_filter(\n",
    "    \"datum['Renda_percapita'] != null  \"\n",
    ").encode(\n",
    "    alt.X(\"count():Q\",\n",
    "          axis=alt.Axis(orient=\"bottom\", offset=10), # mover um pouco a escala e colocar á direita\n",
    "          title=\"Contagem\" ),\n",
    "         \n",
    "    alt.Y(\"moradia:N\",title=\"Casa onde Mora\"),\n",
    "    color=alt.condition(selecionaLocal, \"Local_moradia\" ,alt.value(\"darkgrey\")),\n",
    "    opacity=alt.condition(selecionaLocal, alt.value(.8),alt.value(.1)),\n",
    "     tooltip=[alt.Tooltip(\"count(moradia)\")]\n",
    " \n",
    ").interactive()\n",
    "\n",
    "alt.vconcat(Loc2,Qtd,casa) "
   ]
  },
  {
   "cell_type": "code",
   "execution_count": null,
   "metadata": {
    "id": "-cgYC0p7090A"
   },
   "outputs": [],
   "source": []
  },
  {
   "cell_type": "markdown",
   "metadata": {
    "id": "1rPjNWV-5hXD"
   },
   "source": [
    "# Qual foi o desempenho dos candidatos no ENCCEJA 2019?"
   ]
  },
  {
   "cell_type": "code",
   "execution_count": null,
   "metadata": {
    "id": "Utd4WRCmZG2C"
   },
   "outputs": [],
   "source": [
    "colunas = [\"Nota Ch\", \"Nota Cn\", \"Nota Lc\",\"Nota Mt\"]\n",
    "linhas = colunas[::-1]\n",
    "\n",
    "dados['aprovados'] = dados['In Aprovado Cn'].map({1: 'Aprovado',0: 'Reprovado'})\n",
    "dados['aprovados'] = dados['In Aprovado Lc'].map({1: 'Aprovado',0: 'Reprovado'})\n",
    "dados['aprovados'] = dados['In Aprovado Mt'].map({1: 'Aprovado',0: 'Reprovado'})\n",
    "dados['aprovados'] = dados['In Aprovado Lc'].map({1: 'Aprovado',0: 'Reprovado'})\n",
    "\n",
    "#dados['status_reda'] = dados['Tp Status Redacao'].map({1: 'Sem problemas',2: 'Anulada',3: 'Cópia Texto Motivador',4: 'Em Branco',6: 'Fuga ao tema',7: 'Não atendimento ao tipo textual',8: 'Texto insuficiente'})\n"
   ]
  },
  {
   "cell_type": "code",
   "execution_count": null,
   "metadata": {
    "colab": {
     "base_uri": "https://localhost:8080/",
     "height": 726
    },
    "id": "PvojAvsYZIW1",
    "outputId": "986f19a3-c320-4bba-cd95-846e00bdade7",
    "scrolled": true
   },
   "outputs": [],
   "source": [
    "brush = alt.selection_interval(\n",
    "    resolve='global' # todas as seleções com brush passam a responder como somente uma\n",
    ")\n",
    "\n",
    "avaliacao = alt.Chart(dados).mark_circle().add_selection(\n",
    "    brush\n",
    ").encode(\n",
    "    alt.X(alt.repeat(\"column\"), type='quantitative', scale=alt.Scale(zero=False)),\n",
    "    alt.Y(alt.repeat(\"row\"), type='quantitative', scale=alt.Scale(zero=False)) ,\n",
    "    \n",
    "    tooltip=[alt.Tooltip(\"Nota Mt\"),alt.Tooltip(\"Nota Lc\"),alt.Tooltip(\"Nota Cn\"),alt.Tooltip(\"Nota Ch\")] ,\n",
    "    #tooltip=[alt.Tooltip(\"Idade\"), alt.Tooltip(\"Sexo\")]\n",
    "  #color=\"aprovados:N\",\n",
    "    color=alt.condition(brush, \"aprovados:N\",alt.value(\"darkgrey\")),\n",
    "    opacity=alt.condition(brush, alt.value(.8),alt.value(.1))\n",
    "  # \n",
    ").properties(\n",
    "    width=120,\n",
    "    height=120\n",
    ").repeat(\n",
    "    column=colunas,\n",
    "    row=linhas\n",
    ")\n",
    "#avaliacao\n",
    "\n",
    "barras = alt.Chart(dados).mark_bar().encode(\n",
    "    alt.X(alt.repeat(\"row\"), type='quantitative', bin=True, title=\"Histograma com média da área\"),\n",
    "    alt.Y(\"count()\",title=None)\n",
    ")\n",
    "regua = alt.Chart(dados).mark_rule(color=\"firebrick\").encode(\n",
    "    alt.X(alt.repeat(\"row\"), aggregate='average', type='quantitative')\n",
    ")\n",
    "\n",
    "hist = alt.layer(barras, regua).properties(\n",
    "    width=120,\n",
    "    height=120\n",
    ").repeat(\n",
    "    row=linhas\n",
    ")\n",
    "#_______________________________________________________________\n",
    "brush = alt.selection_interval(encodings=['x']);\n",
    "\n",
    "\n",
    "base = alt.Chart().mark_bar().encode(\n",
    "    alt.X(\"Nota Redacao:Q\",title=None, bin=True),\n",
    "    alt.Y(\"count():Q\", scale=alt.Scale(zero=False), title=\"Histograma Nota Redação\"),\n",
    "    alt.Color(\"aprovados:N\",title=\"Frequencia da Nota Redação\", )\n",
    ").properties(\n",
    "    width=180,\n",
    "    height=180\n",
    ")\n",
    "\n",
    "reda=alt.vconcat(\n",
    "    base.encode(alt.X('Nota Redacao:Q', title=None, scale=alt.Scale(domain=brush))),\n",
    "    base.add_selection(brush).properties(height=50),\n",
    "    data=dados\n",
    ")\n",
    "\n",
    "\n",
    "\n",
    "alt.vconcat((avaliacao | hist),reda )"
   ]
  },
  {
   "cell_type": "code",
   "execution_count": null,
   "metadata": {},
   "outputs": [],
   "source": []
  },
  {
   "cell_type": "code",
   "execution_count": null,
   "metadata": {},
   "outputs": [],
   "source": [
    "\n",
    "\n"
   ]
  },
  {
   "cell_type": "code",
   "execution_count": null,
   "metadata": {},
   "outputs": [],
   "source": []
  }
 ],
 "metadata": {
  "accelerator": "GPU",
  "colab": {
   "collapsed_sections": [],
   "name": "ENCEJA2019VIS(09_01_2021).ipynb",
   "provenance": []
  },
  "kernelspec": {
   "display_name": "Python 3",
   "language": "python",
   "name": "python3"
  },
  "language_info": {
   "codemirror_mode": {
    "name": "ipython",
    "version": 3
   },
   "file_extension": ".py",
   "mimetype": "text/x-python",
   "name": "python",
   "nbconvert_exporter": "python",
   "pygments_lexer": "ipython3",
   "version": "3.7.7"
  }
 },
 "nbformat": 4,
 "nbformat_minor": 1
}
